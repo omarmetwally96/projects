{
 "cells": [
  {
   "cell_type": "code",
   "execution_count": 1,
   "id": "4bd8a4c2",
   "metadata": {},
   "outputs": [],
   "source": [
    "# 1- difine the board\n",
    "# 2- draw row and col\n",
    "# 3- player move ask from the user to olny enter numbers\n",
    "# 4- check win by using all\n",
    "# 5- check tie \n",
    "# 6- main call all func "
   ]
  },
  {
   "cell_type": "code",
   "execution_count": 2,
   "id": "62bfcd3f",
   "metadata": {},
   "outputs": [],
   "source": [
    "board = [[\"\", \"\", \"\"], [\"\", \"\", \"\"], [\"\", \"\", \"\"]]"
   ]
  },
  {
   "cell_type": "code",
   "execution_count": 3,
   "id": "46666fde",
   "metadata": {},
   "outputs": [],
   "source": [
    "def print_board(board):\n",
    "    for row in board:\n",
    "        print (\" | \".join(row))\n",
    "        print('_' * 8)"
   ]
  },
  {
   "cell_type": "code",
   "execution_count": 4,
   "id": "39ed02f2",
   "metadata": {},
   "outputs": [],
   "source": [
    "def player_move(board, player_symbol):\n",
    "    while True:\n",
    "        try:\n",
    "            row = int(input(\"pls enter the number of row (0-2)\"))\n",
    "            col = int(input(\"pls enter the number of col (0-2)\"))\n",
    "            if 0 <= row <= 2 and 0 <= col <= 2 and board[row][col] == \"\":\n",
    "                board[row][col] = player_symbol\n",
    "                break\n",
    "            else:\n",
    "                print(\"invaled move. try again\")\n",
    "        except ValueError:\n",
    "            print(\"pls enter a number\")\n",
    "        "
   ]
  },
  {
   "cell_type": "code",
   "execution_count": 5,
   "id": "e8f8f244",
   "metadata": {},
   "outputs": [],
   "source": [
    "def check_win(board, player_symbol):\n",
    "    for row in board:\n",
    "        if all (square == player_symbol for square in row):\n",
    "            return True\n",
    "    for col in range (3):\n",
    "        if all (row[col] == player_symbol for row in board):\n",
    "            return True\n",
    "        \n",
    "    return False"
   ]
  },
  {
   "cell_type": "code",
   "execution_count": 6,
   "id": "f8e80f50",
   "metadata": {},
   "outputs": [],
   "source": [
    "def check_tie(board):\n",
    "    for row in board:\n",
    "        for square in row:\n",
    "            if square == \"\":\n",
    "                return False\n",
    "    return True"
   ]
  },
  {
   "cell_type": "code",
   "execution_count": 7,
   "id": "366f68b9",
   "metadata": {},
   "outputs": [
    {
     "name": "stdout",
     "output_type": "stream",
     "text": [
      " |  | \n",
      "________\n",
      " |  | \n",
      "________\n",
      " |  | \n",
      "________\n",
      "pls enter the number of row (0-2)0\n",
      "pls enter the number of col (0-2)0\n",
      "X |  | \n",
      "________\n",
      " |  | \n",
      "________\n",
      " |  | \n",
      "________\n",
      "pls enter the number of row (0-2)0\n",
      "pls enter the number of col (0-2)1\n",
      "X | O | \n",
      "________\n",
      " |  | \n",
      "________\n",
      " |  | \n",
      "________\n",
      "pls enter the number of row (0-2)0\n",
      "pls enter the number of col (0-2)2\n",
      "X | O | X\n",
      "________\n",
      " |  | \n",
      "________\n",
      " |  | \n",
      "________\n",
      "pls enter the number of row (0-2)1\n",
      "pls enter the number of col (0-2)1\n",
      "X | O | X\n",
      "________\n",
      " | O | \n",
      "________\n",
      " |  | \n",
      "________\n",
      "pls enter the number of row (0-2)1\n",
      "pls enter the number of col (0-2)0\n",
      "X | O | X\n",
      "________\n",
      "X | O | \n",
      "________\n",
      " |  | \n",
      "________\n",
      "pls enter the number of row (0-2)1\n",
      "pls enter the number of col (0-2)2\n",
      "X | O | X\n",
      "________\n",
      "X | O | O\n",
      "________\n",
      " |  | \n",
      "________\n",
      "pls enter the number of row (0-2)2\n",
      "pls enter the number of col (0-2)1\n",
      "X | O | X\n",
      "________\n",
      "X | O | O\n",
      "________\n",
      " | X | \n",
      "________\n",
      "pls enter the number of row (0-2)2\n",
      "pls enter the number of col (0-2)0\n",
      "X | O | X\n",
      "________\n",
      "X | O | O\n",
      "________\n",
      "O | X | \n",
      "________\n",
      "pls enter the number of row (0-2)2\n",
      "pls enter the number of col (0-2)2\n",
      "X | O | X\n",
      "________\n",
      "X | O | O\n",
      "________\n",
      "O | X | X\n",
      "________\n",
      "It's a tie!\n"
     ]
    }
   ],
   "source": [
    "def main():\n",
    "    player_symbols = [\"X\", \"O\"]\n",
    "    current_player = 0\n",
    "\n",
    "    while True:\n",
    "        print_board(board)\n",
    "        player_move(board, player_symbols[current_player])\n",
    "\n",
    "        if check_win(board, player_symbols[current_player]):\n",
    "            print_board(board)\n",
    "            print(f\"Player {player_symbols[current_player]} wins!\")\n",
    "            break\n",
    "        elif check_tie(board):\n",
    "            print_board(board)\n",
    "            print(\"It's a tie!\")\n",
    "            break\n",
    "\n",
    "        current_player = 1 - current_player  \n",
    "\n",
    "if __name__ == \"__main__\":\n",
    "    main()"
   ]
  },
  {
   "cell_type": "code",
   "execution_count": null,
   "id": "f0bd7b9d",
   "metadata": {},
   "outputs": [],
   "source": []
  }
 ],
 "metadata": {
  "kernelspec": {
   "display_name": "Python 3 (ipykernel)",
   "language": "python",
   "name": "python3"
  },
  "language_info": {
   "codemirror_mode": {
    "name": "ipython",
    "version": 3
   },
   "file_extension": ".py",
   "mimetype": "text/x-python",
   "name": "python",
   "nbconvert_exporter": "python",
   "pygments_lexer": "ipython3",
   "version": "3.9.13"
  }
 },
 "nbformat": 4,
 "nbformat_minor": 5
}
