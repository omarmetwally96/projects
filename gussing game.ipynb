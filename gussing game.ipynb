{
 "cells": [
  {
   "cell_type": "code",
   "execution_count": 1,
   "id": "731dbc1e",
   "metadata": {},
   "outputs": [],
   "source": [
    "import random"
   ]
  },
  {
   "cell_type": "code",
   "execution_count": 8,
   "id": "8b0f2589",
   "metadata": {},
   "outputs": [],
   "source": [
    "acutal = random.randint(0,100)"
   ]
  },
  {
   "cell_type": "code",
   "execution_count": null,
   "id": "b9290c13",
   "metadata": {},
   "outputs": [],
   "source": [
    "acutal"
   ]
  },
  {
   "cell_type": "code",
   "execution_count": 4,
   "id": "a1974946",
   "metadata": {},
   "outputs": [
    {
     "name": "stdout",
     "output_type": "stream",
     "text": [
      "pls enter the guessing number : 79\n"
     ]
    }
   ],
   "source": [
    "guess = int(input(\"pls enter the guessing number : \"))"
   ]
  },
  {
   "cell_type": "code",
   "execution_count": null,
   "id": "41c35dc8",
   "metadata": {},
   "outputs": [],
   "source": [
    "guesses = []\n",
    "while True:\n",
    "    try:\n",
    "        guess = int(input(\"pls enter the guessing number : \"))\n",
    "    except ValueError:\n",
    "        print(\"you did not enter a number idiot\")\n",
    "        continue\n",
    "    if (guess > 100) or (guess < 0):\n",
    "        guesses.append(guess)\n",
    "        print (\"your number is out of range\")\n",
    "        continue\n",
    "    if guess == acutal:\n",
    "        print(\"congatulations! , you get the correct anser in : \", len(guesses),' times')\n",
    "        guesses.append(guess)\n",
    "        break\n",
    "    elif len(guesses) <= 0:\n",
    "        print ('this is your first guess, keep going')\n",
    "        guesses.append(guess)\n",
    "    elif abs(guess - acutal) > abs(guesses[-1] - acutal):\n",
    "        print ('you are getting farther')\n",
    "        guesses.append(guess)\n",
    "    else: \n",
    "        guesses.append(guess)\n",
    "        print(\"wrong! but you are getting closser\")\n",
    "        "
   ]
  },
  {
   "cell_type": "code",
   "execution_count": 9,
   "id": "3686616a",
   "metadata": {},
   "outputs": [
    {
     "data": {
      "text/plain": [
       "[10, 20, 96]"
      ]
     },
     "execution_count": 9,
     "metadata": {},
     "output_type": "execute_result"
    }
   ],
   "source": [
    "guesses"
   ]
  },
  {
   "cell_type": "code",
   "execution_count": null,
   "id": "ab227d93",
   "metadata": {},
   "outputs": [],
   "source": []
  }
 ],
 "metadata": {
  "kernelspec": {
   "display_name": "Python 3 (ipykernel)",
   "language": "python",
   "name": "python3"
  },
  "language_info": {
   "codemirror_mode": {
    "name": "ipython",
    "version": 3
   },
   "file_extension": ".py",
   "mimetype": "text/x-python",
   "name": "python",
   "nbconvert_exporter": "python",
   "pygments_lexer": "ipython3",
   "version": "3.9.13"
  }
 },
 "nbformat": 4,
 "nbformat_minor": 5
}
